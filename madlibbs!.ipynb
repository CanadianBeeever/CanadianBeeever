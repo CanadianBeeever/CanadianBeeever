{
 "cells": [
  {
   "cell_type": "code",
   "execution_count": 4,
   "id": "93235ca4",
   "metadata": {},
   "outputs": [],
   "source": [
    "originalStoryFormat = '''\n",
    "Once upon a time, deep in an ancient jungle,\n",
    "there lived a {animal}.  This {animal}\n",
    "liked to eat strawberries and {food}, but the jungle had\n",
    "very little {noun} to offer.  One day, an\n",
    "explorer found the {animal} and discovered\n",
    "it liked {food}.  The explorer took the\n",
    "{animal} back to {city}, where it could\n",
    "eat as much {food} as it wanted.  However,\n",
    "the {animal} became {adjective}, so the\n",
    "explorer brought it back to the jungle,\n",
    "leaving a large supply of {food}.\n",
    "\n",
    "The End '''"
   ]
  },
  {
   "cell_type": "code",
   "execution_count": 2,
   "id": "a4491323",
   "metadata": {},
   "outputs": [
    {
     "data": {
      "text/plain": [
       "'\\nOnce upon a time, deep in an ancient jungle,\\nthere lived a {animal}.  This {animal}\\nliked to eat {food}, but the jungle had\\nvery little {food} to offer.  One day, an\\nexplorer found the {animal} and discovered\\nit liked {food}.  The explorer took the\\n{animal} back to {city}, where it could\\neat as much {food} as it wanted.  However,\\nthe {animal} became homesick, so the\\nexplorer brought it back to the jungle,\\nleaving a large supply of {food}.\\n\\nThe End\\n'"
      ]
     },
     "execution_count": 2,
     "metadata": {},
     "output_type": "execute_result"
    }
   ],
   "source": [
    "animal = ['coyote', 'ocelot', 'pangolin']\n",
    "city = ['seattle', 'san francisco', 'melbourne']\n",
    "...."
   ]
  },
  {
   "cell_type": "code",
   "execution_count": null,
   "id": "e5185b12",
   "metadata": {},
   "outputs": [],
   "source": []
  }
 ],
 "metadata": {
  "kernelspec": {
   "display_name": "Python 3",
   "language": "python",
   "name": "python3"
  },
  "language_info": {
   "codemirror_mode": {
    "name": "ipython",
    "version": 3
   },
   "file_extension": ".py",
   "mimetype": "text/x-python",
   "name": "python",
   "nbconvert_exporter": "python",
   "pygments_lexer": "ipython3",
   "version": "3.8.8"
  }
 },
 "nbformat": 4,
 "nbformat_minor": 5
}
